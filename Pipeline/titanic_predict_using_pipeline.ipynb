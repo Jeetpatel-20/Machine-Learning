{
  "nbformat": 4,
  "nbformat_minor": 0,
  "metadata": {
    "colab": {
      "provenance": []
    },
    "kernelspec": {
      "name": "python3",
      "display_name": "Python 3"
    },
    "language_info": {
      "name": "python"
    }
  },
  "cells": [
    {
      "cell_type": "code",
      "execution_count": 4,
      "metadata": {
        "id": "6dQ9LqxmPn36"
      },
      "outputs": [],
      "source": [
        "import pickle\n",
        "import joblib\n",
        "import numpy as np"
      ]
    },
    {
      "cell_type": "code",
      "source": [
        "pipe = pickle.load(open('titanic_pipe.pkl', 'rb'))"
      ],
      "metadata": {
        "id": "Ze08JebZRQSi"
      },
      "execution_count": 6,
      "outputs": []
    },
    {
      "cell_type": "code",
      "source": [
        "test_input = np.array([1, 'male', 31.0, 1, 0, 10.5, 'Q'], dtype=object).reshape(1, 7)"
      ],
      "metadata": {
        "id": "ye2VmuJBUonB"
      },
      "execution_count": 15,
      "outputs": []
    },
    {
      "cell_type": "code",
      "source": [
        "pipe.predict(test_input)"
      ],
      "metadata": {
        "colab": {
          "base_uri": "https://localhost:8080/"
        },
        "id": "6hNe1G8bVKcX",
        "outputId": "08e96516-5377-46fc-9f3e-9893029c0930"
      },
      "execution_count": 16,
      "outputs": [
        {
          "output_type": "stream",
          "name": "stderr",
          "text": [
            "/usr/local/lib/python3.11/dist-packages/sklearn/utils/validation.py:2739: UserWarning: X does not have valid feature names, but SimpleImputer was fitted with feature names\n",
            "  warnings.warn(\n",
            "/usr/local/lib/python3.11/dist-packages/sklearn/utils/validation.py:2739: UserWarning: X does not have valid feature names, but SimpleImputer was fitted with feature names\n",
            "  warnings.warn(\n"
          ]
        },
        {
          "output_type": "execute_result",
          "data": {
            "text/plain": [
              "array([0])"
            ]
          },
          "metadata": {},
          "execution_count": 16
        }
      ]
    }
  ]
}